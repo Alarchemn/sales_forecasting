{
 "cells": [
  {
   "cell_type": "code",
   "execution_count": 10,
   "id": "81253015",
   "metadata": {},
   "outputs": [],
   "source": [
    "# Import fundamental libraries\n",
    "import numpy\n",
    "import pandas\n",
    "import matplotlib\n",
    "import seaborn\n",
    "import plotly\n",
    "\n",
    "# Import dedicated libraries\n",
    "import statsmodels\n",
    "import sklearn\n",
    "import pmdarima\n",
    "import prophet\n",
    "import fastapi\n",
    "import uvicorn\n",
    "import pydantic"
   ]
  },
  {
   "cell_type": "code",
   "execution_count": 11,
   "id": "778a9a09",
   "metadata": {},
   "outputs": [
    {
     "name": "stdout",
     "output_type": "stream",
     "text": [
      "numpy==1.24.3\n",
      "pandas==1.5.3\n",
      "matplotlib==3.7.1\n",
      "seaborn==0.12.2\n",
      "plotly==5.9.0\n",
      "statsmodels==0.13.5\n",
      "sklearn==1.2.2\n",
      "pmdarima==2.0.3\n",
      "prophet==1.1.4\n",
      "fastapi==0.96.0\n",
      "uvicorn==0.22.0\n",
      "pydantic==1.10.8\n"
     ]
    }
   ],
   "source": [
    "print(f'numpy=={numpy.__version__}')\n",
    "print(f'pandas=={pandas.__version__}')\n",
    "print(f'matplotlib=={matplotlib.__version__}')\n",
    "print(f'seaborn=={seaborn.__version__}')\n",
    "print(f'plotly=={plotly.__version__}')\n",
    "print(f'statsmodels=={statsmodels.__version__}')\n",
    "print(f'sklearn=={sklearn.__version__}')\n",
    "print(f'pmdarima=={pmdarima.__version__}')\n",
    "print(f'prophet=={prophet.__version__}')\n",
    "print(f'fastapi=={fastapi.__version__}')\n",
    "print(f'uvicorn=={uvicorn.__version__}')\n",
    "print(f'pydantic=={pydantic.__version__}')"
   ]
  },
  {
   "cell_type": "code",
   "execution_count": null,
   "id": "59f5b6fd",
   "metadata": {},
   "outputs": [],
   "source": []
  }
 ],
 "metadata": {
  "kernelspec": {
   "display_name": "Python 3 (ipykernel)",
   "language": "python",
   "name": "python3"
  },
  "language_info": {
   "codemirror_mode": {
    "name": "ipython",
    "version": 3
   },
   "file_extension": ".py",
   "mimetype": "text/x-python",
   "name": "python",
   "nbconvert_exporter": "python",
   "pygments_lexer": "ipython3",
   "version": "3.10.11"
  }
 },
 "nbformat": 4,
 "nbformat_minor": 5
}
